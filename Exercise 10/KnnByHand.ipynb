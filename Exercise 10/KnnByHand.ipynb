{
 "cells": [
  {
   "cell_type": "code",
   "execution_count": 27,
   "metadata": {},
   "outputs": [],
   "source": [
    "import pandas as pd\n",
    "import math"
   ]
  },
  {
   "cell_type": "code",
   "execution_count": 68,
   "metadata": {},
   "outputs": [],
   "source": [
    "data = {'x': [12, 14, 17, 16], \n",
    "        'y': [21, 19, 20, 18], \n",
    "        'z': [24531, 134529, 132450, 456568],\n",
    "        'bool': [1, 0, 1, 0]\n",
    "       } "
   ]
  },
  {
   "cell_type": "code",
   "execution_count": 69,
   "metadata": {},
   "outputs": [
    {
     "data": {
      "text/html": [
       "<div>\n",
       "<style scoped>\n",
       "    .dataframe tbody tr th:only-of-type {\n",
       "        vertical-align: middle;\n",
       "    }\n",
       "\n",
       "    .dataframe tbody tr th {\n",
       "        vertical-align: top;\n",
       "    }\n",
       "\n",
       "    .dataframe thead th {\n",
       "        text-align: right;\n",
       "    }\n",
       "</style>\n",
       "<table border=\"1\" class=\"dataframe\">\n",
       "  <thead>\n",
       "    <tr style=\"text-align: right;\">\n",
       "      <th></th>\n",
       "      <th>x</th>\n",
       "      <th>y</th>\n",
       "      <th>z</th>\n",
       "      <th>bool</th>\n",
       "    </tr>\n",
       "  </thead>\n",
       "  <tbody>\n",
       "    <tr>\n",
       "      <th>0</th>\n",
       "      <td>12</td>\n",
       "      <td>21</td>\n",
       "      <td>24531</td>\n",
       "      <td>1</td>\n",
       "    </tr>\n",
       "    <tr>\n",
       "      <th>1</th>\n",
       "      <td>14</td>\n",
       "      <td>19</td>\n",
       "      <td>134529</td>\n",
       "      <td>0</td>\n",
       "    </tr>\n",
       "    <tr>\n",
       "      <th>2</th>\n",
       "      <td>17</td>\n",
       "      <td>20</td>\n",
       "      <td>132450</td>\n",
       "      <td>1</td>\n",
       "    </tr>\n",
       "    <tr>\n",
       "      <th>3</th>\n",
       "      <td>16</td>\n",
       "      <td>18</td>\n",
       "      <td>456568</td>\n",
       "      <td>0</td>\n",
       "    </tr>\n",
       "  </tbody>\n",
       "</table>\n",
       "</div>"
      ],
      "text/plain": [
       "    x   y       z  bool\n",
       "0  12  21   24531     1\n",
       "1  14  19  134529     0\n",
       "2  17  20  132450     1\n",
       "3  16  18  456568     0"
      ]
     },
     "execution_count": 69,
     "metadata": {},
     "output_type": "execute_result"
    }
   ],
   "source": [
    "df = pd.DataFrame(data, columns = ['x', 'y', 'z', 'bool'])\n",
    "df.head()"
   ]
  },
  {
   "cell_type": "code",
   "execution_count": 70,
   "metadata": {},
   "outputs": [],
   "source": [
    "#You normalize your data in another table"
   ]
  },
  {
   "cell_type": "code",
   "execution_count": 71,
   "metadata": {},
   "outputs": [
    {
     "name": "stdout",
     "output_type": "stream",
     "text": [
      "17 21 456568\n"
     ]
    }
   ],
   "source": [
    "maxX = df['x'].max()\n",
    "maxY = df['y'].max()\n",
    "maxZ = df['z'].max()\n",
    "print(maxX, maxY, maxZ) "
   ]
  },
  {
   "cell_type": "code",
   "execution_count": 72,
   "metadata": {},
   "outputs": [
    {
     "name": "stdout",
     "output_type": "stream",
     "text": [
      "12 18 24531\n"
     ]
    }
   ],
   "source": [
    "minX = df['x'].min()\n",
    "minY = df['y'].min()\n",
    "minZ = df['z'].min()\n",
    "print(minX, minY, minZ) "
   ]
  },
  {
   "cell_type": "code",
   "execution_count": 74,
   "metadata": {},
   "outputs": [
    {
     "name": "stdout",
     "output_type": "stream",
     "text": [
      "0.0 1.0 0.0\n",
      "0.4 0.3333333333333333 0.2546031937079463\n",
      "1.0 0.6666666666666666 0.2497911058543597\n",
      "0.8 0.0 1.0\n"
     ]
    }
   ],
   "source": [
    "xVals = []\n",
    "yVals = []\n",
    "zVals = []\n",
    "bools = []\n",
    "for ind in df.index:\n",
    "    # normalize X\n",
    "    \n",
    "    normalizedX = (df['x'][ind] - minX) / (maxX - minX)\n",
    "    xVals.append(normalizedX)\n",
    "    \n",
    "    normalizedY = (df['y'][ind] - minY) / (maxY - minY)\n",
    "    yVals.append(normalizedY)\n",
    "    \n",
    "    normalizedZ = (df['z'][ind] - minZ) / (maxZ - minZ)\n",
    "    zVals.append(normalizedZ)\n",
    "    print(normalizedX, normalizedY, normalizedZ)\n",
    "    \n",
    "    bools.append(df['bool'][ind])"
   ]
  },
  {
   "cell_type": "code",
   "execution_count": 75,
   "metadata": {},
   "outputs": [],
   "source": [
    "data = {\n",
    "    \"x\": xVals,\n",
    "    \"y\": yVals,\n",
    "    \"z\": zVals,\n",
    "    \"bool\": bools\n",
    "}"
   ]
  },
  {
   "cell_type": "code",
   "execution_count": 76,
   "metadata": {},
   "outputs": [
    {
     "data": {
      "text/html": [
       "<div>\n",
       "<style scoped>\n",
       "    .dataframe tbody tr th:only-of-type {\n",
       "        vertical-align: middle;\n",
       "    }\n",
       "\n",
       "    .dataframe tbody tr th {\n",
       "        vertical-align: top;\n",
       "    }\n",
       "\n",
       "    .dataframe thead th {\n",
       "        text-align: right;\n",
       "    }\n",
       "</style>\n",
       "<table border=\"1\" class=\"dataframe\">\n",
       "  <thead>\n",
       "    <tr style=\"text-align: right;\">\n",
       "      <th></th>\n",
       "      <th>x</th>\n",
       "      <th>y</th>\n",
       "      <th>z</th>\n",
       "      <th>bool</th>\n",
       "    </tr>\n",
       "  </thead>\n",
       "  <tbody>\n",
       "    <tr>\n",
       "      <th>0</th>\n",
       "      <td>0.0</td>\n",
       "      <td>1.000000</td>\n",
       "      <td>0.000000</td>\n",
       "      <td>1</td>\n",
       "    </tr>\n",
       "    <tr>\n",
       "      <th>1</th>\n",
       "      <td>0.4</td>\n",
       "      <td>0.333333</td>\n",
       "      <td>0.254603</td>\n",
       "      <td>0</td>\n",
       "    </tr>\n",
       "    <tr>\n",
       "      <th>2</th>\n",
       "      <td>1.0</td>\n",
       "      <td>0.666667</td>\n",
       "      <td>0.249791</td>\n",
       "      <td>1</td>\n",
       "    </tr>\n",
       "    <tr>\n",
       "      <th>3</th>\n",
       "      <td>0.8</td>\n",
       "      <td>0.000000</td>\n",
       "      <td>1.000000</td>\n",
       "      <td>0</td>\n",
       "    </tr>\n",
       "  </tbody>\n",
       "</table>\n",
       "</div>"
      ],
      "text/plain": [
       "     x         y         z  bool\n",
       "0  0.0  1.000000  0.000000     1\n",
       "1  0.4  0.333333  0.254603     0\n",
       "2  1.0  0.666667  0.249791     1\n",
       "3  0.8  0.000000  1.000000     0"
      ]
     },
     "execution_count": 76,
     "metadata": {},
     "output_type": "execute_result"
    }
   ],
   "source": [
    "normalizedDF = pd.DataFrame(data, columns = ['x', 'y', 'z', 'bool'])\n",
    "normalizedDF.head()"
   ]
  },
  {
   "cell_type": "code",
   "execution_count": 104,
   "metadata": {},
   "outputs": [],
   "source": [
    "#You code a simple euclid distance function\n",
    "\n",
    "#K is always 1\n",
    "#returns the bool value of the nearst neighbour\n",
    "def getNears(x,y,z):\n",
    "    res = []\n",
    "    for i in normalizedDF.index:\n",
    "        row = normalizedDF.values[i]\n",
    "        be_res = math.pow(x - row[0], 2) + math.pow(y - row[1],2) + math.pow(z - row[2],2)\n",
    "        distance = math.sqrt(be_res)\n",
    "        res.append([distance, row[3]])\n",
    "    res.sort(key=lambda x:x[0],reverse=True)\n",
    "    return res[0][1]"
   ]
  },
  {
   "cell_type": "code",
   "execution_count": 108,
   "metadata": {},
   "outputs": [
    {
     "name": "stdout",
     "output_type": "stream",
     "text": [
      "first: 1.0\n",
      "second: 0.0\n"
     ]
    }
   ],
   "source": [
    "first_test_res = getNears(0.3,0.4,0.5)\n",
    "print(\"first:\", first_test_res)\n",
    "sec_test_res = getNears(0.2,0.2,0.1)\n",
    "print(\"second:\", sec_test_res)"
   ]
  },
  {
   "cell_type": "code",
   "execution_count": null,
   "metadata": {},
   "outputs": [],
   "source": []
  }
 ],
 "metadata": {
  "kernelspec": {
   "display_name": "Python 3",
   "language": "python",
   "name": "python3"
  },
  "language_info": {
   "codemirror_mode": {
    "name": "ipython",
    "version": 3
   },
   "file_extension": ".py",
   "mimetype": "text/x-python",
   "name": "python",
   "nbconvert_exporter": "python",
   "pygments_lexer": "ipython3",
   "version": "3.7.6"
  }
 },
 "nbformat": 4,
 "nbformat_minor": 4
}
