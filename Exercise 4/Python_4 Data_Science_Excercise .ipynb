{
 "cells": [
  {
   "cell_type": "code",
   "execution_count": 166,
   "metadata": {},
   "outputs": [],
   "source": [
    "import pandas as pd"
   ]
  },
  {
   "cell_type": "code",
   "execution_count": 167,
   "metadata": {},
   "outputs": [],
   "source": [
    "df = pd.read_csv(\"countries.csv\")"
   ]
  },
  {
   "cell_type": "code",
   "execution_count": 168,
   "metadata": {},
   "outputs": [
    {
     "name": "stdout",
     "output_type": "stream",
     "text": [
      "['Name', 'People', 'Area', 'BIP', 'Currency']\n"
     ]
    }
   ],
   "source": [
    "print(list(df.columns))"
   ]
  },
  {
   "cell_type": "code",
   "execution_count": 169,
   "metadata": {},
   "outputs": [
    {
     "name": "stdout",
     "output_type": "stream",
     "text": [
      "       Name     People     Area   BIP Currency\n",
      "0   Germany   82521653   357385  3466      EUR\n",
      "1     Japan  126045000   377835  4938      YEN\n",
      "2    Canada   36503097  9984670  1529      CAD\n",
      "3     Italy   60501718   301338  1850      EUR\n",
      "4  Brazilia  208360000  8515770  1798     REAL\n"
     ]
    }
   ],
   "source": [
    "print(df)"
   ]
  },
  {
   "cell_type": "code",
   "execution_count": 170,
   "metadata": {},
   "outputs": [
    {
     "name": "stdout",
     "output_type": "stream",
     "text": [
      "5\n"
     ]
    }
   ],
   "source": [
    "print(len(df))"
   ]
  },
  {
   "cell_type": "code",
   "execution_count": 171,
   "metadata": {},
   "outputs": [
    {
     "name": "stdout",
     "output_type": "stream",
     "text": [
      "       Name     People     Area   BIP Currency\n",
      "1     Japan  126045000   377835  4938      YEN\n",
      "2    Canada   36503097  9984670  1529      CAD\n",
      "3     Italy   60501718   301338  1850      EUR\n",
      "4  Brazilia  208360000  8515770  1798     REAL\n"
     ]
    }
   ],
   "source": [
    "print(df.tail(4))"
   ]
  },
  {
   "cell_type": "code",
   "execution_count": 172,
   "metadata": {},
   "outputs": [
    {
     "name": "stdout",
     "output_type": "stream",
     "text": [
      "      Name    People    Area   BIP Currency\n",
      "0  Germany  82521653  357385  3466      EUR\n",
      "3    Italy  60501718  301338  1850      EUR\n"
     ]
    }
   ],
   "source": [
    "currency = df[\"Currency\"] == \"EUR\"\n",
    "print(df[currency])"
   ]
  },
  {
   "cell_type": "code",
   "execution_count": 173,
   "metadata": {},
   "outputs": [
    {
     "name": "stdout",
     "output_type": "stream",
     "text": [
      "      Name     People    Area   BIP Currency\n",
      "0  Germany   82521653  357385  3466      EUR\n",
      "1    Japan  126045000  377835  4938      YEN\n"
     ]
    }
   ],
   "source": [
    "currency = df[\"BIP\"] > 2000\n",
    "print(df[currency])"
   ]
  },
  {
   "cell_type": "code",
   "execution_count": 174,
   "metadata": {},
   "outputs": [
    {
     "name": "stdout",
     "output_type": "stream",
     "text": [
      "       Name     People     Area   Bip Currency\n",
      "0   Germany   82521653   357385  3466      EUR\n",
      "1     Japan  126045000   377835  4938      YEN\n",
      "2    Canada   36503097  9984670  1529      CAD\n",
      "3     Italy   60501718   301338  1850      EUR\n",
      "4  Brazilia  208360000  8515770  1798     REAL\n"
     ]
    }
   ],
   "source": [
    "df = df.rename(columns={'BIP': 'Bip'})\n",
    "print(df)"
   ]
  },
  {
   "cell_type": "code",
   "execution_count": 175,
   "metadata": {},
   "outputs": [
    {
     "name": "stdout",
     "output_type": "stream",
     "text": [
      "13581\n"
     ]
    }
   ],
   "source": [
    "print(df[\"Bip\"].sum())"
   ]
  },
  {
   "cell_type": "code",
   "execution_count": 176,
   "metadata": {},
   "outputs": [
    {
     "name": "stdout",
     "output_type": "stream",
     "text": [
      "102786293.6\n"
     ]
    }
   ],
   "source": [
    "print(np.average(df[\"People\"]))"
   ]
  },
  {
   "cell_type": "code",
   "execution_count": 179,
   "metadata": {},
   "outputs": [
    {
     "name": "stdout",
     "output_type": "stream",
     "text": [
      "       Name     People     Area   Bip Currency\n",
      "4  Brazilia  208360000  8515770  1798     REAL\n",
      "2    Canada   36503097  9984670  1529      CAD\n",
      "0   Germany   82521653   357385  3466      EUR\n",
      "3     Italy   60501718   301338  1850      EUR\n",
      "1     Japan  126045000   377835  4938      YEN\n"
     ]
    }
   ],
   "source": [
    "print(df.sort_values(by= [\"Name\"]))"
   ]
  },
  {
   "cell_type": "code",
   "execution_count": 181,
   "metadata": {},
   "outputs": [
    {
     "name": "stdout",
     "output_type": "stream",
     "text": [
      "       Name     People     Area   Bip Currency\n",
      "0   Germany   82521653   357385  3466      EUR\n",
      "1     Japan  126045000   377835  4938      YEN\n",
      "2    Canada   36503097  9984670  1529      CAD\n",
      "3     Italy   60501718   301338  1850      EUR\n",
      "4  Brazilia  208360000  8515770  1798     REAL\n",
      "---------------------------------------------\n",
      "       Name     People   Area   Bip Currency\n",
      "0   Germany   82521653  SMALL  3466      EUR\n",
      "1     Japan  126045000  SMALL  4938      YEN\n",
      "2    Canada   36503097    BIG  1529      CAD\n",
      "3     Italy   60501718  SMALL  1850      EUR\n",
      "4  Brazilia  208360000    BIG  1798     REAL\n"
     ]
    }
   ],
   "source": [
    "newDF = df.copy()\n",
    "\n",
    "mask = np.where(df['Area'] > 1000000, \"BIG\", \"SMALL\").tolist()\n",
    "newDF[\"Area\"] = mask\n",
    "\n",
    "print(df)\n",
    "print(\"---------------------------------------------\")\n",
    "print(newDF)\n"
   ]
  },
  {
   "cell_type": "code",
   "execution_count": null,
   "metadata": {},
   "outputs": [],
   "source": []
  }
 ],
 "metadata": {
  "kernelspec": {
   "display_name": "Python 3",
   "language": "python",
   "name": "python3"
  },
  "language_info": {
   "codemirror_mode": {
    "name": "ipython",
    "version": 3
   },
   "file_extension": ".py",
   "mimetype": "text/x-python",
   "name": "python",
   "nbconvert_exporter": "python",
   "pygments_lexer": "ipython3",
   "version": "3.7.6"
  }
 },
 "nbformat": 4,
 "nbformat_minor": 4
}
